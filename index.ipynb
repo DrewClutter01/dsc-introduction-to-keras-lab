{
 "cells": [
  {
   "cell_type": "markdown",
   "metadata": {},
   "source": [
    "# Keras - Lab\n",
    "\n",
    "## Introduction\n",
    "\n",
    "In this lab you'll once again build a neural network, but this time you will be using Keras to do a lot of the heavy lifting.\n",
    "\n",
    "\n",
    "## Objectives\n",
    "\n",
    "You will be able to:\n",
    "\n",
    "- Build a neural network using Keras \n",
    "- Evaluate performance of a neural network using Keras "
   ]
  },
  {
   "cell_type": "markdown",
   "metadata": {},
   "source": [
    "## Required Packages\n",
    "\n",
    "We'll start by importing all of the required packages and classes."
   ]
  },
  {
   "cell_type": "code",
   "execution_count": 1,
   "metadata": {},
   "outputs": [],
   "source": [
    "import matplotlib.pyplot as plt\n",
    "import pandas as pd\n",
    "import numpy as np\n",
    "import random\n",
    "from sklearn.model_selection import train_test_split\n",
    "from keras.utils.np_utils import to_categorical\n",
    "from sklearn import preprocessing\n",
    "from keras.preprocessing.text import Tokenizer\n",
    "from keras import models\n",
    "from keras import layers\n",
    "from keras import optimizers"
   ]
  },
  {
   "cell_type": "markdown",
   "metadata": {},
   "source": [
    "## Load the data\n",
    "\n",
    "In this lab you will be classifying bank complaints available in the `'Bank_complaints.csv'` file. "
   ]
  },
  {
   "cell_type": "code",
   "execution_count": 2,
   "metadata": {},
   "outputs": [
    {
     "name": "stdout",
     "output_type": "stream",
     "text": [
      "<class 'pandas.core.frame.DataFrame'>\n",
      "RangeIndex: 60000 entries, 0 to 59999\n",
      "Data columns (total 2 columns):\n",
      " #   Column                        Non-Null Count  Dtype \n",
      "---  ------                        --------------  ----- \n",
      " 0   Product                       60000 non-null  object\n",
      " 1   Consumer complaint narrative  60000 non-null  object\n",
      "dtypes: object(2)\n",
      "memory usage: 937.6+ KB\n",
      "None\n"
     ]
    },
    {
     "data": {
      "text/html": [
       "<div>\n",
       "<style scoped>\n",
       "    .dataframe tbody tr th:only-of-type {\n",
       "        vertical-align: middle;\n",
       "    }\n",
       "\n",
       "    .dataframe tbody tr th {\n",
       "        vertical-align: top;\n",
       "    }\n",
       "\n",
       "    .dataframe thead th {\n",
       "        text-align: right;\n",
       "    }\n",
       "</style>\n",
       "<table border=\"1\" class=\"dataframe\">\n",
       "  <thead>\n",
       "    <tr style=\"text-align: right;\">\n",
       "      <th></th>\n",
       "      <th>Product</th>\n",
       "      <th>Consumer complaint narrative</th>\n",
       "    </tr>\n",
       "  </thead>\n",
       "  <tbody>\n",
       "    <tr>\n",
       "      <th>0</th>\n",
       "      <td>Student loan</td>\n",
       "      <td>In XX/XX/XXXX I filled out the Fedlaon applica...</td>\n",
       "    </tr>\n",
       "    <tr>\n",
       "      <th>1</th>\n",
       "      <td>Student loan</td>\n",
       "      <td>I am being contacted by a debt collector for p...</td>\n",
       "    </tr>\n",
       "    <tr>\n",
       "      <th>2</th>\n",
       "      <td>Student loan</td>\n",
       "      <td>I cosigned XXXX student loans at SallieMae for...</td>\n",
       "    </tr>\n",
       "    <tr>\n",
       "      <th>3</th>\n",
       "      <td>Student loan</td>\n",
       "      <td>Navient has sytematically and illegally failed...</td>\n",
       "    </tr>\n",
       "    <tr>\n",
       "      <th>4</th>\n",
       "      <td>Student loan</td>\n",
       "      <td>My wife became eligible for XXXX Loan Forgiven...</td>\n",
       "    </tr>\n",
       "  </tbody>\n",
       "</table>\n",
       "</div>"
      ],
      "text/plain": [
       "        Product                       Consumer complaint narrative\n",
       "0  Student loan  In XX/XX/XXXX I filled out the Fedlaon applica...\n",
       "1  Student loan  I am being contacted by a debt collector for p...\n",
       "2  Student loan  I cosigned XXXX student loans at SallieMae for...\n",
       "3  Student loan  Navient has sytematically and illegally failed...\n",
       "4  Student loan  My wife became eligible for XXXX Loan Forgiven..."
      ]
     },
     "execution_count": 2,
     "metadata": {},
     "output_type": "execute_result"
    }
   ],
   "source": [
    "# Import data\n",
    "df = pd.read_csv('Bank_complaints.csv')\n",
    "\n",
    "# Inspect data\n",
    "print(df.info())\n",
    "df.head()"
   ]
  },
  {
   "cell_type": "markdown",
   "metadata": {},
   "source": [
    "As mentioned earlier, your task is to categorize banking complaints into various predefined categories. Preview what these categories are and what percent of the complaints each accounts for. "
   ]
  },
  {
   "cell_type": "code",
   "execution_count": 7,
   "metadata": {},
   "outputs": [
    {
     "data": {
      "text/plain": [
       "I am filing this complaint because Experian has ignored my request to provide me with the documents that their company has on file that was used to verify the accounts I disputed. Being that they have gone past the 30 day mark and can not verify these accounts, under Section 611 ( 5 ) ( A ) of the FCRA - they are required to \" ... promptly delete all information which can not be verified '' that I have disputed. Please resolve this manner as soon as possible. Thank you.                                                                                                                                                                                                                                                                                                                                                                                                                                                                                                                                                                                                                                                                                                                                                                                                                                                                                                                                                                                                                                                                                                                                                                                                                                                                                                                                                                                                                                               0.000433\n",
       "I am filing this complaint because TransUnion has ignored my request to provide me with the documents that their company has on file that was used to verify the accounts I disputed. Being that they have gone past the 30 day mark and can not verify these accounts, under Section 611 ( 5 ) ( A ) of the FCRA - they are required to \" ... promptly delete all information which can not be verified '' that I have disputed. Please resolve this manner as soon as possible. Thank you.                                                                                                                                                                                                                                                                                                                                                                                                                                                                                                                                                                                                                                                                                                                                                                                                                                                                                                                                                                                                                                                                                                                                                                                                                                                                                                                                                                                                                                             0.000183\n",
       "I am filing this complaint because Equifax has ignored my request to provide me with the documents that their company has on file that was used to verify the accounts I disputed. Being that they have gone past the 30 day mark and can not verify these accounts, under Section 611 ( 5 ) ( A ) of the FCRA - they are required to \" ... promptly delete all information which can not be verified '' that I have disputed. Please resolve this manner as soon as possible. Thank you.                                                                                                                                                                                                                                                                                                                                                                                                                                                                                                                                                                                                                                                                                                                                                                                                                                                                                                                                                                                                                                                                                                                                                                                                                                                                                                                                                                                                                                                0.000150\n",
       "My name is XXXX XXXX and I 'm a victim of Identity theft, Ive attached my FTC identity theft report. I believe that my accounts have been used fraudulently in the past and currently. Can you please check to see if any personal or business accounts are open under my social security number or have been open in the past. if so, can you please close the account and send every single statement to my address XXXX XXXX XXXX XXXX XXXX XXXX XXXX, FL XXXX XXXX XXXX XXXX XXXX XXXX XXXX XXXX, FL XXXX SSN # XXXX                                                                                                                                                                                                                                                                                                                                                                                                                                                                                                                                                                                                                                                                                                                                                                                                                                                                                                                                                                                                                                                                                                                                                                                                                                                                                                                                                                                                                 0.000133\n",
       "I filed a complaint stating that the Public Record Information was inaccurate in its filing. As the term \" Dismissed '' means that it is adjudicated by the law. My case concern no form of solvency, nothing was placed under conservancy, examinership, liquidation or provisional debt reconstruction. There were no exemptions, no surrender of any kind as stated within the regulations of the BAPCPA \" Means Test ''. The credit bureaus have retrieve my information from a third party entity without my authorization, therefore holding my identity and credit under \" Consumer Lock '' for 10 years. The Bankruptcy Court has confirmed that they did not verify by documentation and the credit agencies have stated I can no longer challenge this negative entry. This discrepancy has prevented me in my personal life 's pursuit. Please advocate for me in this challenge.                                                                                                                                                                                                                                                                                                                                                                                                                                                                                                                                                                                                                                                                                                                                                                                                                                                                                                                                                                                                                                             0.000117\n",
       "                                                                                                                                                                                                                                                                                                                                                                                                                                                                                                                                                                                                                                                                                                                                                                                                                                                                                                                                                                                                                                                                                                                                                                                                                                                                                                                                                                                                                                                                                                                                                                                                                                                                                                                                                                                                                                                                                                                                           ...   \n",
       "My credit report was provided to XXXX XXXX XXXX without my approval. I 've asked the dealership several times to reverse the hard inquiry without success. I need the inquiry removed immediately!                                                                                                                                                                                                                                                                                                                                                                                                                                                                                                                                                                                                                                                                                                                                                                                                                                                                                                                                                                                                                                                                                                                                                                                                                                                                                                                                                                                                                                                                                                                                                                                                                                                                                                                                       0.000017\n",
       "I can not pay my mortgage loan online if it 's a weekend day. This was n't always the case. I 'm sure many people can relate to having to wait up to the last day a payment can be made to pay if without getting a late on their credit report. I have had issues with only having access to making payments via the Internet due to a phone not being available. I have made payments online on weekends before and they post that Saturday or Sunday no problem. In the past year apparently they changed their policy ( never received any policy changes updates ), and these payments I made were not credited until the Monday after causing late quotes on my credit. There are times I do n't get paid until Saturday or Sunday and I should n't be penalized for that. Apparently even if I could have called and made a phone payment they add a XXXX $ fee which I ca n't afford. This is not fair in my eyes. I ca n't get in a better situation if I am blocked in all these ways                                                                                                                                                                                                                                                                                                                                                                                                                                                                                                                                                                                                                                                                                                                                                                                                                                                                                                                                          0.000017\n",
       "Equifax continues to keep allowing incorrect collection accounts on my credit report that have been previously deleted multiple times. When I dispute the collection accounts Equifax states accounts were verified which is not possible because they are not mine. When I contacted Equifax by phone they will not explain how the collection accounts were verified to be my responsibility or what information the company provided to verify them except my name and address. I explained to Equifax anyone can get my name and address because they list it on my credit report. This credit reporting company ( Equifax ) needs to be sued for their lack of investigation and reporting false information on people 's credit report that damages people 's credit rating. I have had the same listed collection accounts in my Equifax report number ( XXXX ) deleted from other credit reporting agencies because the company knows they are not my accounts. These credit reporting companies need to be held accountable for the damage they are creating by their lack of investigation efforts when investigating for consumers. Equifax automatically rule 's against the consumer because they are being paid by the collection companies to keep this false information on the consumers credit reports. I have asked Equifax and the companies listed in my collection investigations to provide me with a contract or a document with my signature showing I have any responsibility to pay any collection accounts I have disputed. Equifax and the companies both have failed to provide me with any proof I owe the amount requested or any other amount they show in collections on my credit report. I demand this matter be taken seriously by Equifax and the false collection information deleted immediately.                                                                                                0.000017\n",
       "Chapter XXXX bankruptcy was filed in XXXX XXXX. Navient was one of several creditors notified of the filing. On XXXX XXXX, Navient reported to the XXXX major credit bureaus, XXXX, XXXX, and XXXX from XXXX - XXXX XXXX. In XXXX, they reported it as 90 days past due with the addition of 30 days up to and including XXXX which has me at 240 days past due. I 've had several conversations with Navient reps and have filed multiple disputes with Navient and through the credit bureaus. On XXXX/XXXX/XXXX, I spoke with two floor supervisors XXXX and XXXX. Both informed me that I would need to speak with New York XXXX XXXX XXXX XXXX XXXX ( XXXX ) to have them make the necessary updates in their system to reflect the bankruptcy back to XXXX XXXX so that they, Navient could reverse the negative reporting filed since per Navient, they do not have jurisdiction to remove the erroneous reporting because XXXX has to make updates to their system, in turn Navient will mirror their report. XXXX/XXXX/XXXX, I contacted XXXX, and spoke with a gentleman in the collection department, he informed me that Navient does have the jurisdiction and ability to reverse their report to the credit bureaus and that under the bankruptcy guidelines, they should not have reported the account as delinquent. XXXX rep shared that there is nothing that they can do on their end to reverse the negative reporting because it was Navient who was reporting to the XXXX bureaus monthly despite the bankruptcy notice. When I contacted XXXX, they directed me to you, the Bureau of Consumer Financial Protection for assistance. I am requesting assistance with having these two entities work together to have the late payment, past due payment, and balance amounts corrected with all three credit bureaus as soon as possible as reporting should not be made to credit bureaus while in bankruptcy.    0.000017\n",
       "We purchased a Subaru SVX XXXX XXXX : XXXX ) from XXXX XXXX XXXX XXXX XXXX XXXX # XXXX - XXXX XXXX, XXXX XXXX on XXXX XXXX, 2015 in the amount of {$1500.00}. After standing in line for 4+ hrs. XXXX we were told that the title has a Lien on it from Citibank NA. After numerous calls XXXX she has since blocked our number. I called Citibank who referred me to XXXX XXXX XXXX as well as XXXX both of which of been unsuccessful.                                                                                                                                                                                                                                                                                                                                                                                                                                                                                                                                                                                                                                                                                                                                                                                                                                                                                                                                                                                                                                                                                                                                                                                                                                                                                                                                                                                                                                                                                                 0.000017\n",
       "Name: Consumer complaint narrative, Length: 59724, dtype: float64"
      ]
     },
     "execution_count": 7,
     "metadata": {},
     "output_type": "execute_result"
    }
   ],
   "source": [
    "# Your code here\n",
    "df['Consumer complaint narrative'].value_counts(normalize=True)"
   ]
  },
  {
   "cell_type": "markdown",
   "metadata": {},
   "source": [
    "## Preprocessing\n",
    "\n",
    "Before we build our neural network, we need to do several preprocessing steps. First, we will create word vector counts (a bag of words type representation) of our complaints text. Next, we will change the category labels to integers. Finally, we will perform our usual train-test split before building and training our neural network using Keras. With that, let's start munging our data! \n",
    "\n",
    "## One-hot encoding of the complaints\n",
    "\n",
    "Our first step again is to transform our textual data into a numerical representation. As we saw in some of our previous lessons on NLP, there are many ways to do this. Here, we'll use the `Tokenizer()` class from the `preprocessing.text` sub-module of the Keras package.   \n",
    "\n",
    "As with our previous work using NLTK, this will transform our text complaints into word vectors. (Note that the method of creating a vector is different from our previous work with NLTK; as you'll see, word order will be preserved as opposed to a bag of words representation). In the below code, we'll only keep the 2,000 most common words and use one-hot encoding. \n",
    "\n"
   ]
  },
  {
   "cell_type": "code",
   "execution_count": 8,
   "metadata": {},
   "outputs": [],
   "source": [
    "# As a quick preliminary, briefly review the docstring for keras.preprocessing.text.Tokenizer\n",
    "Tokenizer?"
   ]
  },
  {
   "cell_type": "code",
   "execution_count": 9,
   "metadata": {},
   "outputs": [
    {
     "name": "stdout",
     "output_type": "stream",
     "text": [
      "sequences type: <class 'list'>\n",
      "one_hot_results type: <class 'numpy.ndarray'>\n",
      "Found 50334 unique tokens.\n",
      "Dimensions of our coded results: (60000, 2000)\n"
     ]
    }
   ],
   "source": [
    "# ⏰ This cell may take about thirty seconds to run\n",
    "\n",
    "# Raw text complaints\n",
    "complaints = df['Consumer complaint narrative'] \n",
    "\n",
    "# Initialize a tokenizer \n",
    "tokenizer = Tokenizer(num_words=2000) \n",
    "\n",
    "# Fit it to the complaints\n",
    "tokenizer.fit_on_texts(complaints) \n",
    "\n",
    "# Generate sequences\n",
    "sequences = tokenizer.texts_to_sequences(complaints) \n",
    "print('sequences type:', type(sequences))\n",
    "\n",
    "# Similar to sequences, but returns a numpy array\n",
    "one_hot_results= tokenizer.texts_to_matrix(complaints, mode='binary') \n",
    "print('one_hot_results type:', type(one_hot_results))\n",
    "\n",
    "# Useful if we wish to decode (more explanation below)\n",
    "word_index = tokenizer.word_index \n",
    "\n",
    "# Tokens are the number of unique words across the corpus\n",
    "print('Found %s unique tokens.' % len(word_index)) \n",
    "\n",
    "# Our coded data\n",
    "print('Dimensions of our coded results:', np.shape(one_hot_results)) "
   ]
  },
  {
   "cell_type": "markdown",
   "metadata": {},
   "source": [
    "## Decoding Word Vectors \n",
    "\n",
    "As a note, you can also decode these vectorized representations of the reviews. The `word_index` variable, defined above, stores the mapping from the label number to the actual word. Somewhat tediously, we can turn this dictionary inside out and map it back to our word vectors, giving us roughly the original complaint back. (As you'll see, the text won't be identical as we limited ourselves to top 2000 words.)\n",
    "\n",
    "## Python Review / Mini Challenge\n",
    "\n",
    "While a bit tangential to our main topic of interest, we need to reverse our current dictionary `word_index` which maps words from our corpus to integers. In decoding our `one_hot_results`, we will need to create a dictionary of these integers to the original words. Below, take the `word_index` dictionary object and change the orientation so that the values are keys and the keys values. In other words, you are transforming something of the form {A:1, B:2, C:3} to {1:A, 2:B, 3:C}. "
   ]
  },
  {
   "cell_type": "code",
   "execution_count": 14,
   "metadata": {},
   "outputs": [],
   "source": [
    "# Your code here\n",
    "reverse_index = {v:k for k, v in word_index.items()}"
   ]
  },
  {
   "cell_type": "markdown",
   "metadata": {},
   "source": [
    "## Back to Decoding Our Word Vectors..."
   ]
  },
  {
   "cell_type": "code",
   "execution_count": 15,
   "metadata": {},
   "outputs": [
    {
     "name": "stdout",
     "output_type": "stream",
     "text": [
      "Original complaint text:\n",
      "I have already filed several complaints about AES/PHEAA. I was notified by a XXXX XXXX let @ XXXX, who pretended to be from your office, he said he was from CFPB. I found out this morning he is n't from your office, but is actually works at XXXX. \r\n",
      "\r\n",
      "This has wasted weeks of my time. They AES/PHEAA confirmed and admitted ( see attached transcript of XXXX, conversation at XXXX ( XXXX ) with XXXX that proves they verified the loans are not mine ) the student loans they had XXXX, and collected on, and reported negate credit reporting in my name are in fact, not mine. \r\n",
      "They conclued their investigation on XXXX admitting they made a mistake and have my name on soneone elses loans. I these XXXX loans total {$10000.00}, original amount. My XXXX loans I got was total {$3500.00}. We proved by providing AES/PHEAA, this with my original promissary notes I located recently, the XXXX of my college provided AES/PHEAA with their original shoeinf amounts of my XXXX loans which show different dates and amounts, the dates and amounts are not even close to matching these loans they have in my name, The original lender, XXXX XXXX Bank notifying AES/PHEAA, they never issued me a student loan, and original Loan Guarantor, XXXX, notifying AES/PHEAA, they never were guarantor of my loans. \r\n",
      "\r\n",
      "XXXX straight forward. But today, this person, XXXX XXXX, told me they know these loans are not mine, and they refuse to remove my name off these XXXX loan 's and correct their mistake, essentially forcing me to pay these loans off, bucause in XXXX they sold the loans to XXXX loans. \r\n",
      "\r\n",
      "This is absurd, first protruding to be this office, and then refusing to correct their mistake. \r\n",
      "\r\n",
      "Please for the love of XXXX will soneone from your office call me at XXXX, today. I am a XXXX vet and they are knowingly discriminating against me. \r\n",
      "Pretending to be you.\n",
      "\n",
      "\n",
      "\n",
      "Decoded review from Tokenizer:\n",
      "i have already filed several complaints about aes i was notified by a xxxx xxxx let xxxx who to be from your office he said he was from cfpb i found out this morning he is n't from your office but is actually works at xxxx \r",
      " \r",
      " this has weeks of my time they aes confirmed and admitted see attached of xxxx conversation at xxxx xxxx with xxxx that they verified the loans are not mine the student loans they had xxxx and on and reported credit reporting in my name are in fact not mine \r",
      " they their investigation on xxxx they made a mistake and have my name on loans i these xxxx loans total 10000 00 original amount my xxxx loans i got was total 00 we by providing aes this with my original notes i located recently the xxxx of my college provided aes with their original amounts of my xxxx loans which show different dates and amounts the dates and amounts are not even close to these loans they have in my name the original lender xxxx xxxx bank notifying aes they never issued me a student loan and original loan xxxx notifying aes they never were of my loans \r",
      " \r",
      " xxxx forward but today this person xxxx xxxx told me they know these loans are not mine and they refuse to remove my name off these xxxx loan 's and correct their mistake essentially me to pay these loans off in xxxx they sold the loans to xxxx loans \r",
      " \r",
      " this is first to be this office and then refusing to correct their mistake \r",
      " \r",
      " please for the of xxxx will from your office call me at xxxx today i am a xxxx and they are against me \r",
      " to be you\n"
     ]
    }
   ],
   "source": [
    "comment_idx_to_preview = 19\n",
    "print('Original complaint text:')\n",
    "print(complaints[comment_idx_to_preview])\n",
    "print('\\n\\n')\n",
    "\n",
    "# The reverse_index cell block above must be complete in order for this cell block to successively execute \n",
    "decoded_review = ' '.join([reverse_index.get(i) for i in sequences[comment_idx_to_preview]])\n",
    "print('Decoded review from Tokenizer:')\n",
    "print(decoded_review)"
   ]
  },
  {
   "cell_type": "markdown",
   "metadata": {},
   "source": [
    "## Convert the Products to Numerical Categories\n",
    "\n",
    "On to step two of our preprocessing: converting our descriptive categories into integers."
   ]
  },
  {
   "cell_type": "code",
   "execution_count": 16,
   "metadata": {},
   "outputs": [
    {
     "name": "stdout",
     "output_type": "stream",
     "text": [
      "Original class labels:\n",
      "['Bank account or service', 'Checking or savings account', 'Consumer Loan', 'Credit card', 'Credit reporting', 'Mortgage', 'Student loan']\n",
      "\n",
      "\n",
      "New product labels:\n",
      "[6 6 6 ... 4 4 4]\n",
      "\n",
      "\n",
      "One hot labels; 7 binary columns, one for each of the categories.\n",
      "[[0. 0. 0. ... 0. 0. 1.]\n",
      " [0. 0. 0. ... 0. 0. 1.]\n",
      " [0. 0. 0. ... 0. 0. 1.]\n",
      " ...\n",
      " [0. 0. 0. ... 1. 0. 0.]\n",
      " [0. 0. 0. ... 1. 0. 0.]\n",
      " [0. 0. 0. ... 1. 0. 0.]]\n",
      "\n",
      "\n",
      "One hot labels shape:\n",
      "(60000, 7)\n"
     ]
    }
   ],
   "source": [
    "product = df['Product']\n",
    "\n",
    "# Initialize\n",
    "le = preprocessing.LabelEncoder() \n",
    "le.fit(product)\n",
    "print('Original class labels:')\n",
    "print(list(le.classes_))\n",
    "print('\\n')\n",
    "product_cat = le.transform(product)  \n",
    "\n",
    "# If you wish to retrieve the original descriptive labels post production\n",
    "# list(le.inverse_transform([0, 1, 3, 3, 0, 6, 4])) \n",
    "\n",
    "print('New product labels:')\n",
    "print(product_cat)\n",
    "print('\\n')\n",
    "\n",
    "# Each row will be all zeros except for the category for that observation \n",
    "print('One hot labels; 7 binary columns, one for each of the categories.') \n",
    "product_onehot = to_categorical(product_cat)\n",
    "print(product_onehot)\n",
    "print('\\n')\n",
    "\n",
    "print('One hot labels shape:')\n",
    "print(np.shape(product_onehot))"
   ]
  },
  {
   "cell_type": "markdown",
   "metadata": {},
   "source": [
    "## Train-test split\n",
    "\n",
    "Now for our final preprocessing step: the usual train-test split. "
   ]
  },
  {
   "cell_type": "code",
   "execution_count": 17,
   "metadata": {},
   "outputs": [
    {
     "name": "stdout",
     "output_type": "stream",
     "text": [
      "Test label shape: (1500, 7)\n",
      "Train label shape: (58500, 7)\n",
      "Test shape: (1500, 2000)\n",
      "Train shape: (58500, 2000)\n"
     ]
    }
   ],
   "source": [
    "random.seed(123)\n",
    "test_index = random.sample(range(1,10000), 1500)\n",
    "\n",
    "test = one_hot_results[test_index]\n",
    "train = np.delete(one_hot_results, test_index, 0)\n",
    "\n",
    "label_test = product_onehot[test_index]\n",
    "label_train = np.delete(product_onehot, test_index, 0)\n",
    "\n",
    "print('Test label shape:', np.shape(label_test))\n",
    "print('Train label shape:', np.shape(label_train))\n",
    "print('Test shape:', np.shape(test))\n",
    "print('Train shape:', np.shape(train))"
   ]
  },
  {
   "cell_type": "markdown",
   "metadata": {},
   "source": [
    "## Building the network\n",
    "\n",
    "Let's build a fully connected (Dense) layer network with relu activation in Keras. You can do this using: `Dense(16, activation='relu')`. \n",
    "\n",
    "In this example, use two hidden layers with 50 units in the first layer and 25 in the second, both with a `'relu'` activation function. Because we are dealing with a multiclass problem (classifying the complaints into 7 categories), we use a use a `'softmax'` classifier in order to output 7 class probabilities per case.  "
   ]
  },
  {
   "cell_type": "code",
   "execution_count": 22,
   "metadata": {},
   "outputs": [],
   "source": [
    "# Initialize a sequential model\n",
    "model = models.Sequential()\n",
    "\n",
    "# Two layers with relu activation\n",
    "model.add(layers.Dense(50, activation='relu', ))\n",
    "model.add(layers.Dense(25, activation='relu'))\n",
    "\n",
    "\n",
    "# One layer with softmax activation \n",
    "model.add(layers.Dense(7, activation='softmax'))"
   ]
  },
  {
   "cell_type": "markdown",
   "metadata": {},
   "source": [
    "## Compiling the model\n",
    "\n",
    "Now, compile the model! This time, use `'categorical_crossentropy'` as the loss function and stochastic gradient descent, `'SGD'` as the optimizer. As in the previous lesson, include the accuracy as a metric."
   ]
  },
  {
   "cell_type": "code",
   "execution_count": 23,
   "metadata": {},
   "outputs": [],
   "source": [
    "# Compile the model\n",
    "model.compile(optimizer='SGD', loss='categorical_crossentropy', metrics=['accuracy'])"
   ]
  },
  {
   "cell_type": "markdown",
   "metadata": {},
   "source": [
    "## Training the model\n",
    "\n",
    "In the compiler, you'll be passing the optimizer (SGD = stochastic gradient descent), loss function, and metrics. Train the model for 120 epochs in mini-batches of 256 samples.\n",
    "\n",
    "_Note:_ ⏰ _Your code may take about one to two minutes to run._"
   ]
  },
  {
   "cell_type": "code",
   "execution_count": 24,
   "metadata": {},
   "outputs": [
    {
     "name": "stdout",
     "output_type": "stream",
     "text": [
      "Epoch 1/120\n",
      "229/229 [==============================] - 1s 4ms/step - loss: 1.8836 - accuracy: 0.2545\n",
      "Epoch 2/120\n",
      "229/229 [==============================] - 1s 3ms/step - loss: 1.6092 - accuracy: 0.4722\n",
      "Epoch 3/120\n",
      "229/229 [==============================] - 1s 3ms/step - loss: 1.2277 - accuracy: 0.6259\n",
      "Epoch 4/120\n",
      "229/229 [==============================] - 1s 3ms/step - loss: 0.9580 - accuracy: 0.6896\n",
      "Epoch 5/120\n",
      "229/229 [==============================] - 1s 3ms/step - loss: 0.8188 - accuracy: 0.7175\n",
      "Epoch 6/120\n",
      "229/229 [==============================] - 1s 3ms/step - loss: 0.7431 - accuracy: 0.7341\n",
      "Epoch 7/120\n",
      "229/229 [==============================] - 1s 3ms/step - loss: 0.6960 - accuracy: 0.7462\n",
      "Epoch 8/120\n",
      "229/229 [==============================] - 1s 3ms/step - loss: 0.6631 - accuracy: 0.7568\n",
      "Epoch 9/120\n",
      "229/229 [==============================] - 1s 3ms/step - loss: 0.6383 - accuracy: 0.7659\n",
      "Epoch 10/120\n",
      "229/229 [==============================] - 1s 3ms/step - loss: 0.6187 - accuracy: 0.7730\n",
      "Epoch 11/120\n",
      "229/229 [==============================] - 1s 3ms/step - loss: 0.6022 - accuracy: 0.7787\n",
      "Epoch 12/120\n",
      "229/229 [==============================] - 1s 3ms/step - loss: 0.5883 - accuracy: 0.7845\n",
      "Epoch 13/120\n",
      "229/229 [==============================] - 1s 3ms/step - loss: 0.5761 - accuracy: 0.7889\n",
      "Epoch 14/120\n",
      "229/229 [==============================] - 1s 3ms/step - loss: 0.5653 - accuracy: 0.7928\n",
      "Epoch 15/120\n",
      "229/229 [==============================] - 1s 3ms/step - loss: 0.5553 - accuracy: 0.7972\n",
      "Epoch 16/120\n",
      "229/229 [==============================] - 1s 3ms/step - loss: 0.5465 - accuracy: 0.8005\n",
      "Epoch 17/120\n",
      "229/229 [==============================] - 1s 3ms/step - loss: 0.5383 - accuracy: 0.8040\n",
      "Epoch 18/120\n",
      "229/229 [==============================] - 1s 3ms/step - loss: 0.5308 - accuracy: 0.8073\n",
      "Epoch 19/120\n",
      "229/229 [==============================] - 1s 3ms/step - loss: 0.5239 - accuracy: 0.8094\n",
      "Epoch 20/120\n",
      "229/229 [==============================] - 1s 3ms/step - loss: 0.5172 - accuracy: 0.8114\n",
      "Epoch 21/120\n",
      "229/229 [==============================] - 1s 2ms/step - loss: 0.5114 - accuracy: 0.8145\n",
      "Epoch 22/120\n",
      "229/229 [==============================] - 1s 3ms/step - loss: 0.5056 - accuracy: 0.8170\n",
      "Epoch 23/120\n",
      "229/229 [==============================] - 1s 2ms/step - loss: 0.5000 - accuracy: 0.8191\n",
      "Epoch 24/120\n",
      "229/229 [==============================] - 1s 3ms/step - loss: 0.4947 - accuracy: 0.8212\n",
      "Epoch 25/120\n",
      "229/229 [==============================] - 1s 3ms/step - loss: 0.4901 - accuracy: 0.8226\n",
      "Epoch 26/120\n",
      "229/229 [==============================] - 1s 3ms/step - loss: 0.4854 - accuracy: 0.8256\n",
      "Epoch 27/120\n",
      "229/229 [==============================] - 1s 3ms/step - loss: 0.4813 - accuracy: 0.8277\n",
      "Epoch 28/120\n",
      "229/229 [==============================] - 1s 3ms/step - loss: 0.4770 - accuracy: 0.8291\n",
      "Epoch 29/120\n",
      "229/229 [==============================] - 1s 3ms/step - loss: 0.4731 - accuracy: 0.8306\n",
      "Epoch 30/120\n",
      "229/229 [==============================] - 1s 3ms/step - loss: 0.4694 - accuracy: 0.8319\n",
      "Epoch 31/120\n",
      "229/229 [==============================] - 1s 3ms/step - loss: 0.4654 - accuracy: 0.8338\n",
      "Epoch 32/120\n",
      "229/229 [==============================] - 1s 3ms/step - loss: 0.4622 - accuracy: 0.8342\n",
      "Epoch 33/120\n",
      "229/229 [==============================] - 1s 3ms/step - loss: 0.4589 - accuracy: 0.8362\n",
      "Epoch 34/120\n",
      "229/229 [==============================] - 1s 3ms/step - loss: 0.4556 - accuracy: 0.8372\n",
      "Epoch 35/120\n",
      "229/229 [==============================] - 1s 3ms/step - loss: 0.4526 - accuracy: 0.8390\n",
      "Epoch 36/120\n",
      "229/229 [==============================] - 1s 3ms/step - loss: 0.4496 - accuracy: 0.8403\n",
      "Epoch 37/120\n",
      "229/229 [==============================] - 1s 3ms/step - loss: 0.4468 - accuracy: 0.8406\n",
      "Epoch 38/120\n",
      "229/229 [==============================] - 1s 3ms/step - loss: 0.4441 - accuracy: 0.8417\n",
      "Epoch 39/120\n",
      "229/229 [==============================] - 1s 3ms/step - loss: 0.4415 - accuracy: 0.8421\n",
      "Epoch 40/120\n",
      "229/229 [==============================] - 1s 3ms/step - loss: 0.4388 - accuracy: 0.8436\n",
      "Epoch 41/120\n",
      "229/229 [==============================] - 1s 3ms/step - loss: 0.4363 - accuracy: 0.8440\n",
      "Epoch 42/120\n",
      "229/229 [==============================] - 1s 3ms/step - loss: 0.4341 - accuracy: 0.8450\n",
      "Epoch 43/120\n",
      "229/229 [==============================] - 1s 3ms/step - loss: 0.4315 - accuracy: 0.8462\n",
      "Epoch 44/120\n",
      "229/229 [==============================] - 1s 3ms/step - loss: 0.4294 - accuracy: 0.8474\n",
      "Epoch 45/120\n",
      "229/229 [==============================] - 1s 3ms/step - loss: 0.4270 - accuracy: 0.8487\n",
      "Epoch 46/120\n",
      "229/229 [==============================] - 1s 3ms/step - loss: 0.4250 - accuracy: 0.8487: 0s - loss: 0.4192 \n",
      "Epoch 47/120\n",
      "229/229 [==============================] - 1s 3ms/step - loss: 0.4227 - accuracy: 0.8498\n",
      "Epoch 48/120\n",
      "229/229 [==============================] - 1s 3ms/step - loss: 0.4209 - accuracy: 0.8508\n",
      "Epoch 49/120\n",
      "229/229 [==============================] - 1s 3ms/step - loss: 0.4186 - accuracy: 0.8516\n",
      "Epoch 50/120\n",
      "229/229 [==============================] - 1s 3ms/step - loss: 0.4167 - accuracy: 0.8523\n",
      "Epoch 51/120\n",
      "229/229 [==============================] - 1s 3ms/step - loss: 0.4149 - accuracy: 0.8532\n",
      "Epoch 52/120\n",
      "229/229 [==============================] - 1s 3ms/step - loss: 0.4130 - accuracy: 0.8535\n",
      "Epoch 53/120\n",
      "229/229 [==============================] - 1s 3ms/step - loss: 0.4113 - accuracy: 0.8546\n",
      "Epoch 54/120\n",
      "229/229 [==============================] - 1s 2ms/step - loss: 0.4097 - accuracy: 0.8549\n",
      "Epoch 55/120\n",
      "229/229 [==============================] - 1s 3ms/step - loss: 0.4078 - accuracy: 0.8548\n",
      "Epoch 56/120\n",
      "229/229 [==============================] - 1s 2ms/step - loss: 0.4060 - accuracy: 0.8564\n",
      "Epoch 57/120\n",
      "229/229 [==============================] - 1s 3ms/step - loss: 0.4044 - accuracy: 0.8565\n",
      "Epoch 58/120\n",
      "229/229 [==============================] - 1s 3ms/step - loss: 0.4030 - accuracy: 0.8574\n",
      "Epoch 59/120\n",
      "229/229 [==============================] - 1s 3ms/step - loss: 0.4011 - accuracy: 0.8571\n",
      "Epoch 60/120\n",
      "229/229 [==============================] - 1s 3ms/step - loss: 0.3999 - accuracy: 0.8576\n",
      "Epoch 61/120\n",
      "229/229 [==============================] - 1s 3ms/step - loss: 0.3983 - accuracy: 0.8583\n",
      "Epoch 62/120\n",
      "229/229 [==============================] - 1s 3ms/step - loss: 0.3971 - accuracy: 0.8593\n",
      "Epoch 63/120\n",
      "229/229 [==============================] - 1s 3ms/step - loss: 0.3951 - accuracy: 0.8603\n",
      "Epoch 64/120\n",
      "229/229 [==============================] - 1s 3ms/step - loss: 0.3937 - accuracy: 0.8603\n",
      "Epoch 65/120\n",
      "229/229 [==============================] - 1s 3ms/step - loss: 0.3927 - accuracy: 0.8609\n",
      "Epoch 66/120\n",
      "229/229 [==============================] - 1s 3ms/step - loss: 0.3912 - accuracy: 0.8605\n",
      "Epoch 67/120\n",
      "229/229 [==============================] - 1s 3ms/step - loss: 0.3894 - accuracy: 0.8619\n",
      "Epoch 68/120\n",
      "229/229 [==============================] - 1s 3ms/step - loss: 0.3884 - accuracy: 0.8627\n",
      "Epoch 69/120\n",
      "229/229 [==============================] - 1s 3ms/step - loss: 0.3871 - accuracy: 0.8625\n",
      "Epoch 70/120\n",
      "229/229 [==============================] - 1s 3ms/step - loss: 0.3856 - accuracy: 0.8628\n",
      "Epoch 71/120\n",
      "229/229 [==============================] - 1s 3ms/step - loss: 0.3845 - accuracy: 0.8637\n",
      "Epoch 72/120\n",
      "229/229 [==============================] - 1s 3ms/step - loss: 0.3834 - accuracy: 0.8634\n",
      "Epoch 73/120\n",
      "229/229 [==============================] - 1s 3ms/step - loss: 0.3820 - accuracy: 0.8638\n",
      "Epoch 74/120\n",
      "229/229 [==============================] - 1s 3ms/step - loss: 0.3808 - accuracy: 0.8644\n",
      "Epoch 75/120\n",
      "229/229 [==============================] - 1s 3ms/step - loss: 0.3796 - accuracy: 0.8653\n",
      "Epoch 76/120\n",
      "229/229 [==============================] - 1s 3ms/step - loss: 0.3784 - accuracy: 0.8658\n",
      "Epoch 77/120\n",
      "229/229 [==============================] - 1s 3ms/step - loss: 0.3773 - accuracy: 0.8656\n",
      "Epoch 78/120\n",
      "229/229 [==============================] - 1s 3ms/step - loss: 0.3759 - accuracy: 0.8666\n",
      "Epoch 79/120\n",
      "229/229 [==============================] - 1s 3ms/step - loss: 0.3748 - accuracy: 0.8678\n",
      "Epoch 80/120\n",
      "229/229 [==============================] - 1s 3ms/step - loss: 0.3737 - accuracy: 0.8670\n",
      "Epoch 81/120\n"
     ]
    },
    {
     "name": "stdout",
     "output_type": "stream",
     "text": [
      "229/229 [==============================] - 1s 3ms/step - loss: 0.3727 - accuracy: 0.8686\n",
      "Epoch 82/120\n",
      "229/229 [==============================] - 1s 2ms/step - loss: 0.3716 - accuracy: 0.8680\n",
      "Epoch 83/120\n",
      "229/229 [==============================] - 1s 3ms/step - loss: 0.3704 - accuracy: 0.8683\n",
      "Epoch 84/120\n",
      "229/229 [==============================] - 1s 2ms/step - loss: 0.3696 - accuracy: 0.8682\n",
      "Epoch 85/120\n",
      "229/229 [==============================] - 1s 3ms/step - loss: 0.3684 - accuracy: 0.8686\n",
      "Epoch 86/120\n",
      "229/229 [==============================] - 1s 3ms/step - loss: 0.3675 - accuracy: 0.8692\n",
      "Epoch 87/120\n",
      "229/229 [==============================] - 1s 3ms/step - loss: 0.3666 - accuracy: 0.8697\n",
      "Epoch 88/120\n",
      "229/229 [==============================] - 1s 3ms/step - loss: 0.3654 - accuracy: 0.8709\n",
      "Epoch 89/120\n",
      "229/229 [==============================] - 1s 3ms/step - loss: 0.3643 - accuracy: 0.8713\n",
      "Epoch 90/120\n",
      "229/229 [==============================] - 1s 3ms/step - loss: 0.3634 - accuracy: 0.8704\n",
      "Epoch 91/120\n",
      "229/229 [==============================] - 1s 3ms/step - loss: 0.3623 - accuracy: 0.8723\n",
      "Epoch 92/120\n",
      "229/229 [==============================] - 1s 3ms/step - loss: 0.3615 - accuracy: 0.8715: 0s - loss: 0.3\n",
      "Epoch 93/120\n",
      "229/229 [==============================] - 1s 3ms/step - loss: 0.3604 - accuracy: 0.8723\n",
      "Epoch 94/120\n",
      "229/229 [==============================] - 1s 3ms/step - loss: 0.3594 - accuracy: 0.8730\n",
      "Epoch 95/120\n",
      "229/229 [==============================] - 1s 3ms/step - loss: 0.3580 - accuracy: 0.8734\n",
      "Epoch 96/120\n",
      "229/229 [==============================] - 1s 3ms/step - loss: 0.3575 - accuracy: 0.8729\n",
      "Epoch 97/120\n",
      "229/229 [==============================] - 1s 3ms/step - loss: 0.3563 - accuracy: 0.8739\n",
      "Epoch 98/120\n",
      "229/229 [==============================] - 1s 3ms/step - loss: 0.3559 - accuracy: 0.8731\n",
      "Epoch 99/120\n",
      "229/229 [==============================] - 1s 3ms/step - loss: 0.3547 - accuracy: 0.8741\n",
      "Epoch 100/120\n",
      "229/229 [==============================] - 1s 3ms/step - loss: 0.3536 - accuracy: 0.8746\n",
      "Epoch 101/120\n",
      "229/229 [==============================] - 1s 3ms/step - loss: 0.3530 - accuracy: 0.8755\n",
      "Epoch 102/120\n",
      "229/229 [==============================] - 1s 3ms/step - loss: 0.3516 - accuracy: 0.8753\n",
      "Epoch 103/120\n",
      "229/229 [==============================] - 1s 3ms/step - loss: 0.3510 - accuracy: 0.8752\n",
      "Epoch 104/120\n",
      "229/229 [==============================] - 1s 3ms/step - loss: 0.3501 - accuracy: 0.8764\n",
      "Epoch 105/120\n",
      "229/229 [==============================] - 1s 3ms/step - loss: 0.3492 - accuracy: 0.8767\n",
      "Epoch 106/120\n",
      "229/229 [==============================] - 1s 3ms/step - loss: 0.3484 - accuracy: 0.8763\n",
      "Epoch 107/120\n",
      "229/229 [==============================] - 1s 3ms/step - loss: 0.3475 - accuracy: 0.8771\n",
      "Epoch 108/120\n",
      "229/229 [==============================] - 1s 3ms/step - loss: 0.3469 - accuracy: 0.8777\n",
      "Epoch 109/120\n",
      "229/229 [==============================] - 1s 3ms/step - loss: 0.3453 - accuracy: 0.8781\n",
      "Epoch 110/120\n",
      "229/229 [==============================] - 1s 3ms/step - loss: 0.3449 - accuracy: 0.8786\n",
      "Epoch 111/120\n",
      "229/229 [==============================] - 1s 3ms/step - loss: 0.3436 - accuracy: 0.8792\n",
      "Epoch 112/120\n",
      "229/229 [==============================] - 1s 3ms/step - loss: 0.3429 - accuracy: 0.8789: 0s - loss: 0.346\n",
      "Epoch 113/120\n",
      "229/229 [==============================] - 1s 3ms/step - loss: 0.3418 - accuracy: 0.8797\n",
      "Epoch 114/120\n",
      "229/229 [==============================] - 1s 3ms/step - loss: 0.3412 - accuracy: 0.8796\n",
      "Epoch 115/120\n",
      "229/229 [==============================] - 1s 3ms/step - loss: 0.3407 - accuracy: 0.8797\n",
      "Epoch 116/120\n",
      "229/229 [==============================] - 1s 3ms/step - loss: 0.3395 - accuracy: 0.8798\n",
      "Epoch 117/120\n",
      "229/229 [==============================] - 1s 3ms/step - loss: 0.3390 - accuracy: 0.8797\n",
      "Epoch 118/120\n",
      "229/229 [==============================] - 1s 3ms/step - loss: 0.3379 - accuracy: 0.8804\n",
      "Epoch 119/120\n",
      "229/229 [==============================] - 1s 3ms/step - loss: 0.3371 - accuracy: 0.8805\n",
      "Epoch 120/120\n",
      "229/229 [==============================] - 1s 3ms/step - loss: 0.3361 - accuracy: 0.8815\n"
     ]
    }
   ],
   "source": [
    "# Train the model \n",
    "history = model.fit(train, label_train, epochs=120, batch_size=256)"
   ]
  },
  {
   "cell_type": "markdown",
   "metadata": {},
   "source": [
    "Recall that the dictionary `history` has two entries: the loss and the accuracy achieved using the training set."
   ]
  },
  {
   "cell_type": "code",
   "execution_count": 25,
   "metadata": {},
   "outputs": [
    {
     "data": {
      "text/plain": [
       "dict_keys(['loss', 'accuracy'])"
      ]
     },
     "execution_count": 25,
     "metadata": {},
     "output_type": "execute_result"
    }
   ],
   "source": [
    "history_dict = history.history\n",
    "history_dict.keys()"
   ]
  },
  {
   "cell_type": "markdown",
   "metadata": {},
   "source": [
    "## Plot the results\n",
    "\n",
    "As you might expect, we'll use our `matplotlib` for graphing. Use the data stored in the `history_dict` above to plot the loss vs epochs and the accuracy vs epochs. "
   ]
  },
  {
   "cell_type": "code",
   "execution_count": 26,
   "metadata": {},
   "outputs": [
    {
     "data": {
      "text/plain": [
       "Text(0, 0.5, 'Loss')"
      ]
     },
     "execution_count": 26,
     "metadata": {},
     "output_type": "execute_result"
    },
    {
     "data": {
      "image/png": "[encoded data removed]",
      "text/plain": [
       "<Figure size 432x288 with 1 Axes>"
      ]
     },
     "metadata": {
      "needs_background": "light"
     },
     "output_type": "display_data"
    }
   ],
   "source": [
    "# Plot the loss vs the number of epoch\n",
    "epochs = np.array(range(1,121))\n",
    "loss = history_dict['loss']\n",
    "plt.plot(epochs, loss)\n",
    "plt.title(\"Loss vs Epoch\")\n",
    "plt.xlabel(\"Epoch\")\n",
    "plt.ylabel(\"Loss\")"
   ]
  },
  {
   "cell_type": "code",
   "execution_count": 27,
   "metadata": {},
   "outputs": [
    {
     "data": {
      "text/plain": [
       "Text(0, 0.5, 'Accuracy')"
      ]
     },
     "execution_count": 27,
     "metadata": {},
     "output_type": "execute_result"
    },
    {
     "data": {
      "image/png": "[encoded data removed]",
      "text/plain": [
       "<Figure size 432x288 with 1 Axes>"
      ]
     },
     "metadata": {
      "needs_background": "light"
     },
     "output_type": "display_data"
    }
   ],
   "source": [
    "# Plot the training accuracy vs the number of epochs\n",
    "acc = history_dict[\"accuracy\"]\n",
    "plt.plot(epochs, acc)\n",
    "plt.title(\"Accuracy vs Epoch\")\n",
    "plt.xlabel(\"Epoch\")\n",
    "plt.ylabel(\"Accuracy\")"
   ]
  },
  {
   "cell_type": "markdown",
   "metadata": {},
   "source": [
    "It seems like we could just keep on going and accuracy would go up!"
   ]
  },
  {
   "cell_type": "markdown",
   "metadata": {},
   "source": [
    "## Make predictions\n",
    "\n",
    "Finally, it's time to make predictions. Use the relevant method discussed in the previous lesson to output (probability) predictions for the test set."
   ]
  },
  {
   "cell_type": "code",
   "execution_count": 28,
   "metadata": {},
   "outputs": [],
   "source": [
    "# Output (probability) predictions for the test set \n",
    "y_hat_test = model.predict(test)"
   ]
  },
  {
   "cell_type": "markdown",
   "metadata": {},
   "source": [
    "## Evaluate Performance\n",
    "\n",
    "Finally, print the loss and accuracy for both the train and test sets of the final trained model."
   ]
  },
  {
   "cell_type": "code",
   "execution_count": 29,
   "metadata": {},
   "outputs": [
    {
     "name": "stdout",
     "output_type": "stream",
     "text": [
      "1829/1829 [==============================] - 1s 505us/step - loss: 0.3299 - accuracy: 0.8852\n"
     ]
    },
    {
     "data": {
      "text/plain": [
       "[0.32991084456443787, 0.8851624131202698]"
      ]
     },
     "execution_count": 29,
     "metadata": {},
     "output_type": "execute_result"
    }
   ],
   "source": [
    "# Print the loss and accuracy for the training set \n",
    "results_train = model.evaluate(train, label_train)\n",
    "results_train"
   ]
  },
  {
   "cell_type": "code",
   "execution_count": 30,
   "metadata": {},
   "outputs": [
    {
     "name": "stdout",
     "output_type": "stream",
     "text": [
      "47/47 [==============================] - 0s 1000us/step - loss: 0.2428 - accuracy: 0.9273\n"
     ]
    },
    {
     "data": {
      "text/plain": [
       "[0.24284347891807556, 0.9273333549499512]"
      ]
     },
     "execution_count": 30,
     "metadata": {},
     "output_type": "execute_result"
    }
   ],
   "source": [
    "# Print the loss and accuracy for the test set \n",
    "results_test = model.evaluate(test, label_test)\n",
    "results_test"
   ]
  },
  {
   "cell_type": "markdown",
   "metadata": {},
   "source": [
    "We can see that the training set results are really good, and the test set results seem to be even better. In general, this type of result will be rare, as train set results are usually at least a bit better than test set results.\n",
    "\n",
    "## Summary \n",
    "\n",
    "Congratulations! In this lab, you built a neural network thanks to the tools provided by Keras! In upcoming lessons and labs we'll continue to investigate further ideas regarding how to tune and refine these models for increased accuracy and performance."
   ]
  }
 ],
 "metadata": {
  "kernelspec": {
   "display_name": "Python 3",
   "language": "python",
   "name": "python3"
  },
  "language_info": {
   "codemirror_mode": {
    "name": "ipython",
    "version": 3
   },
   "file_extension": ".py",
   "mimetype": "text/x-python",
   "name": "python",
   "nbconvert_exporter": "python",
   "pygments_lexer": "ipython3",
   "version": "3.8.5"
  },
  "toc": {
   "base_numbering": 1,
   "nav_menu": {},
   "number_sections": true,
   "sideBar": true,
   "skip_h1_title": false,
   "title_cell": "Table of Contents",
   "title_sidebar": "Contents",
   "toc_cell": false,
   "toc_position": {},
   "toc_section_display": true,
   "toc_window_display": false
  }
 },
 "nbformat": 4,
 "nbformat_minor": 2
}
